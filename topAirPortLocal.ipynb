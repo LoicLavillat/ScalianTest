{
 "cells": [
  {
   "cell_type": "code",
   "execution_count": 33,
   "metadata": {},
   "outputs": [
    {
     "name": "stdout",
     "output_type": "stream",
     "text": [
      "number of lines :2276\n",
      "*******************oo\n",
      "{'London Heathrow Airport': 88809.0, 'Orlando International Airport': 70930.0, 'Los Angeles International Airport': 70530.0, 'McCarran International Airport': 69630.0, 'John F Kennedy International Airport': 66270.0, 'Paris - Charles-de-Gaulle': 64490.0, 'Suvarnabhumi': 59460.0, 'Miami International Airport': 58150.0, 'San Francisco International Airport': 58000.0, 'Dubai International Airport': 55590.0}\n",
      "*******************\n"
     ]
    }
   ],
   "source": [
    "import pandas as pd\n",
    "\n",
    "\n",
    "df1 = pd.read_csv(\"top_airport.csv\")\n",
    "#this file was taken from GeoBases, no need to install all the lib if we just need this file\n",
    "dfCode = pd.read_csv(\"airport_code.csv\",\"^\")\n",
    "dfCode.columns = ['code', 'arr_port','code2','country','country2','long','lat']\n",
    "#number of line\n",
    "row_count = sum(1 for line in open(\"top_airport.csv\"))\n",
    "print(\"number of lines :\"+str(row_count))\n",
    "\n",
    "#groupby airport and sum the pax (even if all airports are different in the file, just in case)\n",
    "df1 = df1.groupby(['arr_port']).sum()\n",
    "n = 10\n",
    "\n",
    "df1 = df1.nlargest(n,'pax')\n",
    "data = {}\n",
    "for index,row in df3.iterrows():\n",
    "    airPort = dfCode.loc[dfCode['code'] == index,'arr_port'].values[0]\n",
    "    data[airPort] = df1['pax'][index]\n",
    "\n",
    "print(\"*******************\")\n",
    "print(data)\n",
    "print(\"*******************\")\n",
    "\n",
    "\n",
    "\n"
   ]
  },
  {
   "cell_type": "code",
   "execution_count": null,
   "metadata": {},
   "outputs": [],
   "source": []
  }
 ],
 "metadata": {
  "kernelspec": {
   "display_name": "Python 3",
   "language": "python",
   "name": "python3"
  },
  "language_info": {
   "codemirror_mode": {
    "name": "ipython",
    "version": 3
   },
   "file_extension": ".py",
   "mimetype": "text/x-python",
   "name": "python",
   "nbconvert_exporter": "python",
   "pygments_lexer": "ipython3",
   "version": "3.7.1"
  }
 },
 "nbformat": 4,
 "nbformat_minor": 2
}
