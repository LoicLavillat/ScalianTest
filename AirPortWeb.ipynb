{
 "cells": [
  {
   "cell_type": "code",
   "execution_count": 2,
   "metadata": {},
   "outputs": [
    {
     "name": "stdout",
     "output_type": "stream",
     "text": [
      "2275\n"
     ]
    },
    {
     "ename": "NameError",
     "evalue": "name 'REQUEST' is not defined",
     "output_type": "error",
     "traceback": [
      "\u001b[1;31m---------------------------------------------------------------------------\u001b[0m",
      "\u001b[1;31mNameError\u001b[0m                                 Traceback (most recent call last)",
      "\u001b[1;32m<ipython-input-2-ce7a62564526>\u001b[0m in \u001b[0;36m<module>\u001b[1;34m\u001b[0m\n\u001b[0;32m     24\u001b[0m \u001b[1;33m\u001b[0m\u001b[0m\n\u001b[0;32m     25\u001b[0m \u001b[1;33m\u001b[0m\u001b[0m\n\u001b[1;32m---> 26\u001b[1;33m \u001b[0mreq\u001b[0m \u001b[1;33m=\u001b[0m \u001b[0mjson\u001b[0m\u001b[1;33m.\u001b[0m\u001b[0mloads\u001b[0m\u001b[1;33m(\u001b[0m\u001b[0mREQUEST\u001b[0m\u001b[1;33m)\u001b[0m\u001b[1;33m\u001b[0m\u001b[1;33m\u001b[0m\u001b[0m\n\u001b[0m\u001b[0;32m     27\u001b[0m \u001b[0margs\u001b[0m \u001b[1;33m=\u001b[0m \u001b[0mreq\u001b[0m\u001b[1;33m[\u001b[0m\u001b[1;34m'args'\u001b[0m\u001b[1;33m]\u001b[0m\u001b[1;33m\u001b[0m\u001b[1;33m\u001b[0m\u001b[0m\n\u001b[0;32m     28\u001b[0m \u001b[1;33m\u001b[0m\u001b[0m\n",
      "\u001b[1;31mNameError\u001b[0m: name 'REQUEST' is not defined"
     ]
    }
   ],
   "source": [
    "# GET /topXAirPort\n",
    "import pandas as pd\n",
    "import json\n",
    "\n",
    "#uncomment to install librairie (first run)\n",
    "#!pip install jupyter_kernel_gateway\n",
    "#!jupyter kernelgateway --generate-config\n",
    "\n",
    "#to use the web service, open a anaconda prompt\n",
    "#type:\n",
    "#jupyter kernelgateway --KernelGatewayApp.api='kernel_gateway.notebook_http' --KernelGatewayApp.seed_uri='AirPortWeb.ipynb'\n",
    "#read the ip used (http://127.0.0.1:8889 or similar)\n",
    "#curl \"ip/topXAirPort?n=5\"\n",
    "\n",
    "df1 = pd.read_csv(\"top_airport.csv\")\n",
    "dfCode = pd.read_csv(\"airport_code.csv\",\"^\")\n",
    "dfCode.columns = ['code', 'arr_port','code2','country','country2','long','lat']\n",
    "#number of line\n",
    "row_count = sum(1 for line in open(\"top_airport.csv\"))\n",
    "print(\"number of lines :\"+str(row_count))\n",
    "\n",
    "#groupby airport and sum the pax (even if all airports are different in the file, just in case)\n",
    "df1 = df1.groupby(['arr_port']).sum()\n",
    "\n",
    "\n",
    "\n",
    "req = json.loads(REQUEST)\n",
    "args = req['args']\n",
    "\n",
    "if 'n' not in args:\n",
    "    print(json.dumps({'rep': \"You must define n\"}))\n",
    "else:\n",
    "  # Note the [0] when retrieving the argument.\n",
    "    n = args['n'][0]\n",
    "    if n.isdigit and int(n) > 0:\n",
    "        n = int(n)\n",
    "        df1 = df1.nlargest(n,'pax')\n",
    "        data = {}\n",
    "        for index,row in df1.iterrows():\n",
    "            airPort = dfCode.loc[dfCode['code'] == index,'arr_port'].values[0]\n",
    "            data[airPort] = df1['pax'][index]\n",
    "\n",
    "        print(\"*******************\")\n",
    "        print(json.dumps(data))\n",
    "        print(\"*******************\")\n",
    "\n",
    "    else:\n",
    "        print(json.dumps({'rep': \"n must be greater than 0\"}))\n",
    "\n",
    "\n",
    "\n",
    "\n",
    "\n",
    "  \n",
    "\n"
   ]
  },
  {
   "cell_type": "code",
   "execution_count": null,
   "metadata": {},
   "outputs": [],
   "source": []
  }
 ],
 "metadata": {
  "kernelspec": {
   "display_name": "Python 3",
   "language": "python",
   "name": "python3"
  },
  "language_info": {
   "codemirror_mode": {
    "name": "ipython",
    "version": 3
   },
   "file_extension": ".py",
   "mimetype": "text/x-python",
   "name": "python",
   "nbconvert_exporter": "python",
   "pygments_lexer": "ipython3",
   "version": "3.7.1"
  }
 },
 "nbformat": 4,
 "nbformat_minor": 2
}
